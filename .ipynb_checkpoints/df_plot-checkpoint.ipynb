{
 "cells": [
  {
   "cell_type": "code",
   "execution_count": 3,
   "metadata": {
    "collapsed": false,
    "scrolled": true
   },
   "outputs": [
    {
     "name": "stderr",
     "output_type": "stream",
     "text": [
      "I:\\Program Files\\Anaconda2\\lib\\site-packages\\matplotlib\\pyplot.py:524: RuntimeWarning: More than 20 figures have been opened. Figures created through the pyplot interface (`matplotlib.pyplot.figure`) are retained until explicitly closed and may consume too much memory. (To control this warning, see the rcParam `figure.max_open_warning`).\n",
      "  max_open_warning, RuntimeWarning)\n"
     ]
    }
   ],
   "source": [
    "import numpy as np\n",
    "import pandas as pd\n",
    "import matplotlib.pyplot as plt\n",
    "import seaborn as sns\n",
    "plt.style.use('ggplot')\n",
    "\n",
    "\n",
    "\n",
    "\n",
    "df=pd.read_excel('level.xlsx', sheetname='level')\n",
    "grammer_df=df[['sentence_len','sentence_std','level']]\n",
    "grammer_df.sentence_std = grammer_df.sentence_std[~((grammer_df.sentence_std-grammer_df.sentence_std.mean()).abs()>3*grammer_df.sentence_std.std())]\n",
    "grammer_df.sentence_len = grammer_df.sentence_len[~((grammer_df.sentence_len-grammer_df.sentence_len.mean()).abs()>3*grammer_df.sentence_len.std())]\n",
    "grammer_df.rename(columns={'sentence_len':'Average length of sentence',\n",
    "                           'sentence_std':'Standard deviation of sentence length','level':'level Label'},inplace=True)\n",
    "\n",
    "vocabulary_distribution=df[['noun_ratio','verb_ratio','adj_ratio','adv_ratio','level']]\n",
    "vocabulary_distribution.noun_ratio = vocabulary_distribution.noun_ratio[~((vocabulary_distribution.noun_ratio-vocabulary_distribution.noun_ratio.mean()).abs()>3*vocabulary_distribution.noun_ratio.std())]\n",
    "vocabulary_distribution.verb_ratio = vocabulary_distribution.verb_ratio[~((vocabulary_distribution.verb_ratio-vocabulary_distribution.verb_ratio.mean()).abs()>3*vocabulary_distribution.verb_ratio.std())]\n",
    "vocabulary_distribution.adj_ratio = vocabulary_distribution.adj_ratio[~((vocabulary_distribution.adj_ratio-vocabulary_distribution.adj_ratio.mean()).abs()>3*vocabulary_distribution.adj_ratio.std())]\n",
    "vocabulary_distribution.adv_ratio = vocabulary_distribution.adv_ratio[~((vocabulary_distribution.adv_ratio-vocabulary_distribution.adv_ratio.mean()).abs()>3*vocabulary_distribution.adv_ratio.std())]\n",
    "vocabulary_distribution.rename(columns={'noun_ratio':'Average Ratio of Nouns','verb_ratio':'Average Ratio of Verbs',\n",
    "                                         'adj_ratio':'Average Ratio of Adjectives','adv_ratio':'Average Ratio of Adverbs',\n",
    "                                         'level':'level Label'},inplace=True)\n",
    "# df=pd.read_excel('plos_ethnea_add.xlsx', sheetname='final')\n",
    "vocabulary_length=df[['substantive_len', 'noun_len', 'verb_len', 'adj_len','adv_len','level']]\n",
    "vocabulary_length.noun_len = vocabulary_length.noun_len[~((vocabulary_length.noun_len-vocabulary_length.noun_len.mean()).abs()>3*vocabulary_length.noun_len.std())]\n",
    "vocabulary_length.verb_len = vocabulary_length.verb_len[~((vocabulary_length.verb_len-vocabulary_length.verb_len.mean()).abs()>3*vocabulary_length.verb_len.std())]\n",
    "vocabulary_length.adj_len = vocabulary_length.adj_len[~((vocabulary_length.adj_len-vocabulary_length.adj_len.mean()).abs()>3*vocabulary_length.adj_len.std())]\n",
    "vocabulary_length.adv_len = vocabulary_length.adv_len[~((vocabulary_length.adv_len-vocabulary_length.adv_len.mean()).abs()>3*vocabulary_length.adv_len.std())]\n",
    "vocabulary_length.substantive_len = vocabulary_length.substantive_len[~((vocabulary_length.substantive_len-vocabulary_length.substantive_len.mean()).abs()>3*vocabulary_length.substantive_len.std())]\n",
    "vocabulary_length.rename(columns={'noun_len':'Average Length of Nouns','verb_len':'Average Length of Verbs',\n",
    "                                  'adj_len':'Average Length of Adjectives','adv_len':'Average Length of Adverbs',\n",
    "                                  'substantive_len':'Average Length of Substantive Words',\n",
    "                                  'level':'level Label'},inplace=True)\n",
    "# df=pd.read_excel('vocabulary.xlsx', sheetname='final')\n",
    "voc_df=df[['vocabulary','level']]\n",
    "voc_df.vocabulary = voc_df.vocabulary[~((voc_df.vocabulary-voc_df.vocabulary.mean()).abs()>3*voc_df.vocabulary.std())]\n",
    "voc_df.rename(columns={'vocabulary':'Average NO. of Distinct Vocabulary','level':'level Label'},inplace=True)\n",
    "complex_df =df[['that','which','level']]\n",
    "complex_df.that = complex_df.that[~((complex_df.that-complex_df.that.mean()).abs()>3*complex_df.that.std())]\n",
    "complex_df.rename(columns={'that':'NO. of that','level':'level Label'},inplace=True)\n",
    "complex_df.which = complex_df.which[~((complex_df.which-complex_df.which.mean()).abs()>3*complex_df.which.std())]\n",
    "complex_df.rename(columns={'which':'NO. of which','level':'level Label'},inplace=True)\n",
    "\n",
    "#Topwords_df=df[['top10_words', 'level']]\n",
    "\n",
    "def df_plot(df,x,y,name):\n",
    "    df.boxplot(column=[y],by=x,showmeans=True,meanline=True)\n",
    "    plt.ylabel(y)\n",
    "    plt.title(\"\")\n",
    "    plt.suptitle(\"\")\n",
    "    plt.savefig(\"I:/\"+name+\".svg\",format='svg')\n",
    "\n",
    "df_plot(grammer_df,'level Label','Average length of sentence','length of sentence')\n",
    "df_plot(grammer_df,'level Label','Standard deviation of sentence length','Standard deviation of sentence')\n",
    "df_plot(vocabulary_distribution,'level Label','Average Ratio of Nouns','Ratio of Nouns')\n",
    "df_plot(vocabulary_distribution,'level Label','Average Ratio of Verbs','Ratio of Verbs')\n",
    "df_plot(vocabulary_distribution,'level Label','Average Ratio of Adjectives','Ratio of Adjectives')\n",
    "df_plot(vocabulary_distribution,'level Label','Average Ratio of Adverbs','Ratio of Adverbs')\n",
    "\n",
    "df_plot(vocabulary_length,'level Label','Average Length of Nouns','Length of Nouns')\n",
    "df_plot(vocabulary_length,'level Label','Average Length of Verbs','Length of Verbs')\n",
    "df_plot(vocabulary_length,'level Label','Average Length of Adjectives','Length of Adjectives')\n",
    "df_plot(vocabulary_length,'level Label','Average Length of Adverbs','Length of Adverbs')\n",
    "df_plot(vocabulary_length,'level Label','Average Length of Substantive Words','Length of Substantive Words')\n",
    "df_plot(voc_df,'level Label','Average NO. of Distinct Vocabulary','Average NO. of Distinct Vocabulary')\n",
    "df_plot(complex_df,'level Label','NO. of which','NO. of which')\n",
    "df_plot(complex_df,'level Label','NO. of that','NO. of that')\n",
    "\n"
   ]
  },
  {
   "cell_type": "code",
   "execution_count": null,
   "metadata": {
    "collapsed": false
   },
   "outputs": [],
   "source": [
    "import numpy as np\n",
    "import pandas as pd\n",
    "import matplotlib.pyplot as plt\n",
    "import seaborn as sns\n",
    "plt.style.use('ggplot')\n",
    "\n",
    "df=pd.read_excel('plos_ethnea.xlsx', sheetname='final')\n",
    "grammer_df=df[['sentence_len','level']]\n",
    "grammer_df.sentence_len = grammer_df.sentence_len[~((grammer_df.sentence_len-grammer_df.sentence_len.mean()).abs()>3*grammer_df.sentence_len.std())]\n",
    "grammer_pivot=grammer_df.pivot(columns='level', values='sentence_len')\n",
    "\n",
    "plt.figure()\n",
    "plt.violinplot([grammer_pivot[1.0].dropna(),grammer_pivot[1.5].dropna(),\n",
    "                grammer_pivot[2.0].dropna(),grammer_pivot[2.5].dropna(),\n",
    "               grammer_pivot[3.0].dropna()],showmeans=True, showextrema=True, showmedians=True,\n",
    "               bw_method='silverman')\n",
    "plt.show()\n"
   ]
  },
  {
   "cell_type": "code",
   "execution_count": null,
   "metadata": {
    "collapsed": true
   },
   "outputs": [],
   "source": []
  }
 ],
 "metadata": {
  "anaconda-cloud": {},
  "kernelspec": {
   "display_name": "Python 2",
   "language": "python",
   "name": "python2"
  },
  "language_info": {
   "codemirror_mode": {
    "name": "ipython",
    "version": 2
   },
   "file_extension": ".py",
   "mimetype": "text/x-python",
   "name": "python",
   "nbconvert_exporter": "python",
   "pygments_lexer": "ipython2",
   "version": "2.7.11"
  }
 },
 "nbformat": 4,
 "nbformat_minor": 0
}
