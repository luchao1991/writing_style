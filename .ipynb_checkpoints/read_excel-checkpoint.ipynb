{
 "cells": [
  {
   "cell_type": "code",
   "execution_count": null,
   "metadata": {
    "collapsed": false
   },
   "outputs": [],
   "source": [
    "import pandas as pd\n",
    "# xls=pd.ExcelFile(r'E:\\resource\\scientific resource\\Projects\\writing style\\plos_ethnea_new.xlsx')\n",
    "# df = xls.parse(\"final\")\n",
    "# df.head()\n",
    "# gender_df=pd.read_csv(r\"E:\\resource\\scientific resource\\Projects\\writing style\\paper three-g+i+w\\plos_ethnea.tsv\", sep='\\t')\n",
    "# pmdoi_df=pd.read_csv(r\"E:\\resource\\scientific resource\\Projects\\writing style\\paper three-g+i+w\\doi_pmid.txt\", sep='\\t',names=['pmid','doi'])\n",
    "# result = gender_df.join(pmdoi_df, how='inner')\n",
    "# result.head()\n",
    "# result = result[result.d != 0]\n",
    "\n",
    "group_df  = pd.ExcelFile(r'E:\\resource\\scientific resource\\Projects\\writing style\\paper one-writing style\\data\\writing style final.xlsx',sheetname=0)\n",
    "print group_df.head()\n",
    "\n"
   ]
  },
  {
   "cell_type": "code",
   "execution_count": 29,
   "metadata": {
    "collapsed": false
   },
   "outputs": [
    {
     "data": {
      "text/html": [
       "<div style=\"max-height:1000px;max-width:1500px;overflow:auto;\">\n",
       "<table border=\"1\" class=\"dataframe\">\n",
       "  <thead>\n",
       "    <tr style=\"text-align: right;\">\n",
       "      <th></th>\n",
       "      <th>PMID</th>\n",
       "      <th>au_order</th>\n",
       "      <th>lastname</th>\n",
       "      <th>firstname</th>\n",
       "      <th>country</th>\n",
       "      <th>lastnameEthnea</th>\n",
       "      <th>firstnameEthnea</th>\n",
       "      <th>ethnea</th>\n",
       "      <th>genni</th>\n",
       "      <th>pmid</th>\n",
       "      <th>doi</th>\n",
       "    </tr>\n",
       "  </thead>\n",
       "  <tbody>\n",
       "    <tr>\n",
       "      <th>0</th>\n",
       "      <td>26151946</td>\n",
       "      <td>1</td>\n",
       "      <td>Rodenburg-Vandenbussche</td>\n",
       "      <td>Sumayah</td>\n",
       "      <td>Netherlands</td>\n",
       "      <td>Rodenburg-Vandenbussche</td>\n",
       "      <td>Sumayah</td>\n",
       "      <td>DUTCH</td>\n",
       "      <td>F</td>\n",
       "      <td>None</td>\n",
       "      <td>10.1371/annotation/008b05a8-229b-4aca-94ae-91e...</td>\n",
       "    </tr>\n",
       "    <tr>\n",
       "      <th>1</th>\n",
       "      <td>26151946</td>\n",
       "      <td>12</td>\n",
       "      <td>Stiggelbout</td>\n",
       "      <td>Anne</td>\n",
       "      <td>Netherlands</td>\n",
       "      <td>Stiggelbout</td>\n",
       "      <td>Anne</td>\n",
       "      <td>DUTCH</td>\n",
       "      <td>-</td>\n",
       "      <td>None</td>\n",
       "      <td>10.1371/annotation/00a3b22e-36a9-4d51-89e5-1e6...</td>\n",
       "    </tr>\n",
       "    <tr>\n",
       "      <th>2</th>\n",
       "      <td>26151935</td>\n",
       "      <td>1</td>\n",
       "      <td>Moustafa</td>\n",
       "      <td>Ahmed</td>\n",
       "      <td>Australia</td>\n",
       "      <td>Moustafa</td>\n",
       "      <td>Ahmed</td>\n",
       "      <td>ARAB</td>\n",
       "      <td>M</td>\n",
       "      <td>None</td>\n",
       "      <td>10.1371/annotation/00d17a45-7b78-4fd5-9a9a-0f2...</td>\n",
       "    </tr>\n",
       "    <tr>\n",
       "      <th>3</th>\n",
       "      <td>26151935</td>\n",
       "      <td>7</td>\n",
       "      <td>Bennett</td>\n",
       "      <td>Mark</td>\n",
       "      <td>Australia</td>\n",
       "      <td>Bennett</td>\n",
       "      <td>Mark</td>\n",
       "      <td>ENGLISH</td>\n",
       "      <td>M</td>\n",
       "      <td>24348938</td>\n",
       "      <td>10.1371/annotation/00ea7ef3-aafd-4675-a3cc-c50...</td>\n",
       "    </tr>\n",
       "    <tr>\n",
       "      <th>4</th>\n",
       "      <td>26151934</td>\n",
       "      <td>1</td>\n",
       "      <td>Kinoshita-Kikuta</td>\n",
       "      <td>Emiko</td>\n",
       "      <td>Japan</td>\n",
       "      <td>Kinoshita-Kikuta</td>\n",
       "      <td>Emiko</td>\n",
       "      <td>JAPANESE</td>\n",
       "      <td>F</td>\n",
       "      <td>None</td>\n",
       "      <td>10.1371/annotation/010f6c7f-9745-4810-a370-c96...</td>\n",
       "    </tr>\n",
       "  </tbody>\n",
       "</table>\n",
       "</div>"
      ],
      "text/plain": [
       "       PMID  au_order                 lastname firstname      country  \\\n",
       "0  26151946         1  Rodenburg-Vandenbussche   Sumayah  Netherlands   \n",
       "1  26151946        12              Stiggelbout      Anne  Netherlands   \n",
       "2  26151935         1                 Moustafa     Ahmed    Australia   \n",
       "3  26151935         7                  Bennett      Mark    Australia   \n",
       "4  26151934         1         Kinoshita-Kikuta     Emiko        Japan   \n",
       "\n",
       "            lastnameEthnea firstnameEthnea    ethnea genni      pmid  \\\n",
       "0  Rodenburg-Vandenbussche         Sumayah     DUTCH     F      None   \n",
       "1              Stiggelbout            Anne     DUTCH     -      None   \n",
       "2                 Moustafa           Ahmed      ARAB     M      None   \n",
       "3                  Bennett            Mark   ENGLISH     M  24348938   \n",
       "4         Kinoshita-Kikuta           Emiko  JAPANESE     F      None   \n",
       "\n",
       "                                                 doi  \n",
       "0  10.1371/annotation/008b05a8-229b-4aca-94ae-91e...  \n",
       "1  10.1371/annotation/00a3b22e-36a9-4d51-89e5-1e6...  \n",
       "2  10.1371/annotation/00d17a45-7b78-4fd5-9a9a-0f2...  \n",
       "3  10.1371/annotation/00ea7ef3-aafd-4675-a3cc-c50...  \n",
       "4  10.1371/annotation/010f6c7f-9745-4810-a370-c96...  "
      ]
     },
     "execution_count": 29,
     "metadata": {},
     "output_type": "execute_result"
    }
   ],
   "source": [
    "result.to_csv(r'E:\\resource\\scientific resource\\Projects\\writing style\\paper three-g+i+w\\joined_result.csv',sep='\\t', encoding='utf-8')\n",
    "filter = result['doi'].str.contains(\"anntation*\")\n",
    "new_result=result[~filter]\n",
    "new_result.head()"
   ]
  },
  {
   "cell_type": "code",
   "execution_count": 1,
   "metadata": {
    "collapsed": false
   },
   "outputs": [
    {
     "ename": "NameError",
     "evalue": "name 'pd' is not defined",
     "output_type": "error",
     "traceback": [
      "\u001b[0;31m---------------------------------------------------------------------------\u001b[0m",
      "\u001b[0;31mNameError\u001b[0m                                 Traceback (most recent call last)",
      "\u001b[0;32m<ipython-input-1-6cf0d5a0ebf3>\u001b[0m in \u001b[0;36m<module>\u001b[0;34m()\u001b[0m\n\u001b[0;32m----> 1\u001b[0;31m \u001b[0mgroup_df\u001b[0m  \u001b[1;33m=\u001b[0m \u001b[0mpd\u001b[0m\u001b[1;33m.\u001b[0m\u001b[0mExcelFile\u001b[0m\u001b[1;33m(\u001b[0m\u001b[1;34mr'E:\\resource\\scientific resource\\Projects\\writing style\\paper one-writing style\\data\\writing style final.xlsx'\u001b[0m\u001b[1;33m,\u001b[0m\u001b[0msheetname\u001b[0m\u001b[1;33m=\u001b[0m\u001b[1;36m0\u001b[0m\u001b[1;33m)\u001b[0m\u001b[1;33m\u001b[0m\u001b[0m\n\u001b[0m\u001b[1;32m      2\u001b[0m \u001b[0mgroup_df\u001b[0m\u001b[1;33m.\u001b[0m\u001b[0mhead\u001b[0m\u001b[1;33m(\u001b[0m\u001b[1;33m)\u001b[0m\u001b[1;33m\u001b[0m\u001b[0m\n",
      "\u001b[0;31mNameError\u001b[0m: name 'pd' is not defined"
     ]
    }
   ],
   "source": []
  },
  {
   "cell_type": "code",
   "execution_count": null,
   "metadata": {
    "collapsed": true
   },
   "outputs": [],
   "source": []
  }
 ],
 "metadata": {
  "kernelspec": {
   "display_name": "Python 2",
   "language": "python",
   "name": "python2"
  },
  "language_info": {
   "codemirror_mode": {
    "name": "ipython",
    "version": 2
   },
   "file_extension": ".py",
   "mimetype": "text/x-python",
   "name": "python",
   "nbconvert_exporter": "python",
   "pygments_lexer": "ipython2",
   "version": "2.7.11"
  }
 },
 "nbformat": 4,
 "nbformat_minor": 1
}
