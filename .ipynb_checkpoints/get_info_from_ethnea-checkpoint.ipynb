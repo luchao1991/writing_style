{
 "cells": [
  {
   "cell_type": "code",
   "execution_count": 1,
   "metadata": {},
   "outputs": [
    {
     "name": "stdout",
     "output_type": "stream",
     "text": [
      "155579\n"
     ]
    }
   ],
   "source": [
    "doi_set = set(open(r'F:\\scientific resource\\Projects\\writing style\\paper one-writing style\\data\\doi.txt','r').read().split('\\n'))\n",
    "print len(doi_set)"
   ]
  },
  {
   "cell_type": "code",
   "execution_count": 2,
   "metadata": {},
   "outputs": [
    {
     "name": "stdout",
     "output_type": "stream",
     "text": [
      "176301\n"
     ]
    }
   ],
   "source": [
    "from collections import defaultdict\n",
    "pmid_dict= defaultdict()\n",
    "for line in open(r'F:\\scientific resource\\Projects\\writing style\\paper one-writing style\\data\\doi_pmid.txt','r'):\n",
    "    v,k = line.strip().split()\n",
    "    pmid_dict[k]=v\n",
    "print len(pmid_dict)"
   ]
  },
  {
   "cell_type": "code",
   "execution_count": 6,
   "metadata": {},
   "outputs": [
    {
     "name": "stdout",
     "output_type": "stream",
     "text": [
      "155579\n"
     ]
    }
   ],
   "source": [
    "pmid_doi=defaultdict()\n",
    "for k,v in pmid_dict.iteritems():\n",
    "#     print k,v \n",
    "    if k in doi_set:\n",
    "        pmid_doi[v]=k\n",
    "print len(pmid_doi)"
   ]
  },
  {
   "cell_type": "code",
   "execution_count": 7,
   "metadata": {},
   "outputs": [
    {
     "name": "stdout",
     "output_type": "stream",
     "text": [
      "155579\n"
     ]
    }
   ],
   "source": [
    "pmids=set(pmid_doi.keys())\n",
    "print len(pmids)"
   ]
  },
  {
   "cell_type": "code",
   "execution_count": 8,
   "metadata": {
    "collapsed": true
   },
   "outputs": [],
   "source": [
    "for line in open(r'F:\\scientific resource\\Projects\\writing style\\paper one-writing style\\data\\plos_ethnea.tsv','r'):\n",
    "    temp_list = line.strip().split('\\t')\n",
    "    pmid = temp_list[0] \n",
    "    if pmid in pmids:\n",
    "        with open('plos_ethnea_final.txt','a') as f:\n",
    "            f.write(pmid_doi.get(pmid) + \"\\t\"+line)"
   ]
  },
  {
   "cell_type": "code",
   "execution_count": 5,
   "metadata": {},
   "outputs": [],
   "source": [
    "def get_article_length(doi_file,file_path):\n",
    "    for line in open(doi_file,'r'):\n",
    "        print line.strip().replace('/','%')\n",
    "        break"
   ]
  },
  {
   "cell_type": "code",
   "execution_count": 6,
   "metadata": {
    "collapsed": true
   },
   "outputs": [],
   "source": [
    "file_path = r'F:\\scientific resource\\Projects\\writing style\\paper one-writing style\\data\\doi.txt'\n",
    "file_directory = r''"
   ]
  },
  {
   "cell_type": "code",
   "execution_count": 7,
   "metadata": {},
   "outputs": [
    {
     "name": "stdout",
     "output_type": "stream",
     "text": [
      "10.1371/journal.pbio.0000001\n"
     ]
    }
   ],
   "source": [
    "get_article_length(file_path, file_directory)"
   ]
  },
  {
   "cell_type": "code",
   "execution_count": null,
   "metadata": {
    "collapsed": true
   },
   "outputs": [],
   "source": []
  }
 ],
 "metadata": {
  "kernelspec": {
   "display_name": "Python 2",
   "language": "python",
   "name": "python2"
  },
  "language_info": {
   "codemirror_mode": {
    "name": "ipython",
    "version": 2
   },
   "file_extension": ".py",
   "mimetype": "text/x-python",
   "name": "python",
   "nbconvert_exporter": "python",
   "pygments_lexer": "ipython2",
   "version": "2.7.13"
  }
 },
 "nbformat": 4,
 "nbformat_minor": 2
}
