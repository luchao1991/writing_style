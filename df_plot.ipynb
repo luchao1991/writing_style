{
 "cells": [
  {
   "cell_type": "code",
   "execution_count": 10,
   "metadata": {
    "collapsed": false,
    "scrolled": false
   },
   "outputs": [],
   "source": [
    "import numpy as np\n",
    "import pandas as pd\n",
    "import matplotlib.pyplot as plt\n",
    "# import seaborn as sns\n",
    "plt.style.use('ggplot')\n",
    "\n",
    "\n",
    "\n",
    "\n",
    "df=pd.read_excel('level.xlsx', sheetname='level')\n",
    "grammer_df=df[['sentence_len','sentence_std','level']]\n",
    "grammer_df.sentence_std = grammer_df.sentence_std[~((grammer_df.sentence_std-grammer_df.sentence_std.mean()).abs()>3*grammer_df.sentence_std.std())]\n",
    "grammer_df.sentence_len = grammer_df.sentence_len[~((grammer_df.sentence_len-grammer_df.sentence_len.mean()).abs()>3*grammer_df.sentence_len.std())]\n",
    "grammer_df.rename(columns={'sentence_len':'Average length of sentence',\n",
    "                           'sentence_std':'Standard deviation of sentence length','level':'level Label'},inplace=True)\n",
    "\n",
    "vocabulary_distribution=df[['noun_ratio','verb_ratio','adj_ratio','adv_ratio','level']]\n",
    "vocabulary_distribution.noun_ratio = vocabulary_distribution.noun_ratio[~((vocabulary_distribution.noun_ratio-vocabulary_distribution.noun_ratio.mean()).abs()>3*vocabulary_distribution.noun_ratio.std())]\n",
    "vocabulary_distribution.verb_ratio = vocabulary_distribution.verb_ratio[~((vocabulary_distribution.verb_ratio-vocabulary_distribution.verb_ratio.mean()).abs()>3*vocabulary_distribution.verb_ratio.std())]\n",
    "vocabulary_distribution.adj_ratio = vocabulary_distribution.adj_ratio[~((vocabulary_distribution.adj_ratio-vocabulary_distribution.adj_ratio.mean()).abs()>3*vocabulary_distribution.adj_ratio.std())]\n",
    "vocabulary_distribution.adv_ratio = vocabulary_distribution.adv_ratio[~((vocabulary_distribution.adv_ratio-vocabulary_distribution.adv_ratio.mean()).abs()>3*vocabulary_distribution.adv_ratio.std())]\n",
    "vocabulary_distribution.rename(columns={'noun_ratio':'Average Ratio of Nouns','verb_ratio':'Average Ratio of Verbs',\n",
    "                                         'adj_ratio':'Average Ratio of Adjectives','adv_ratio':'Average Ratio of Adverbs',\n",
    "                                         'level':'level Label'},inplace=True)\n",
    "# df=pd.read_excel('plos_ethnea_add.xlsx', sheetname='final')\n",
    "vocabulary_length=df[['noun_len', 'verb_len', 'adj_len','adv_len','level']]\n",
    "vocabulary_length.noun_len = vocabulary_length.noun_len[~((vocabulary_length.noun_len-vocabulary_length.noun_len.mean()).abs()>3*vocabulary_length.noun_len.std())]\n",
    "vocabulary_length.verb_len = vocabulary_length.verb_len[~((vocabulary_length.verb_len-vocabulary_length.verb_len.mean()).abs()>3*vocabulary_length.verb_len.std())]\n",
    "vocabulary_length.adj_len = vocabulary_length.adj_len[~((vocabulary_length.adj_len-vocabulary_length.adj_len.mean()).abs()>3*vocabulary_length.adj_len.std())]\n",
    "vocabulary_length.adv_len = vocabulary_length.adv_len[~((vocabulary_length.adv_len-vocabulary_length.adv_len.mean()).abs()>3*vocabulary_length.adv_len.std())]\n",
    "vocabulary_length.rename(columns={'noun_len':'Average Length of Nouns','verb_len':'Average Length of Verbs',\n",
    "                                  'adj_len':'Average Length of Adjectives','adv_len':'Average Length of Adverbs',\n",
    "                                  'level':'level Label'},inplace=True)\n",
    "# df=pd.read_excel('vocabulary.xlsx', sheetname='final')\n",
    "voc_df=df[['vocabulary','level']]\n",
    "voc_df.vocabulary = voc_df.vocabulary[~((voc_df.vocabulary-voc_df.vocabulary.mean()).abs()>3*voc_df.vocabulary.std())]\n",
    "voc_df.rename(columns={'vocabulary':'Average NO. of Distinct Vocabulary','level':'level Label'},inplace=True)\n",
    "complex_df =df[['that','which','level']]\n",
    "complex_df.that = complex_df.that[~((complex_df.that-complex_df.that.mean()).abs()>3*complex_df.that.std())]\n",
    "complex_df.rename(columns={'that':'NO. of that','level':'level Label'},inplace=True)\n",
    "complex_df.which = complex_df.which[~((complex_df.which-complex_df.which.mean()).abs()>3*complex_df.which.std())]\n",
    "complex_df.rename(columns={'which':'NO. of which','level':'level Label'},inplace=True)\n",
    "\n",
    "#Topwords_df=df[['top10_words', 'level']]\n",
    "\n",
    "def df_plot(df,x,y,name):\n",
    "    df.boxplot(column=[y],by=x,showmeans=True,meanline=True)\n",
    "    plt.ylabel(y)\n",
    "    plt.title(\"\")\n",
    "    plt.suptitle(\"\")\n",
    "    plt.savefig(name+\".svg\",format='svg')\n",
    "\n",
    "df_plot(grammer_df,'level Label','Average length of sentence','length of sentence_citation)')\n",
    "df_plot(grammer_df,'level Label','Standard deviation of sentence length','Standard deviation of sentence_citation')\n",
    "df_plot(vocabulary_distribution,'level Label','Average Ratio of Nouns','Ratio of Nouns_citation')\n",
    "df_plot(vocabulary_distribution,'level Label','Average Ratio of Verbs','Ratio of Verbs_citation')\n",
    "df_plot(vocabulary_distribution,'level Label','Average Ratio of Adjectives','Ratio of Adjectives_citation')\n",
    "df_plot(vocabulary_distribution,'level Label','Average Ratio of Adverbs','Ratio of Adverbs_citation')\n",
    "\n",
    "df_plot(vocabulary_length,'level Label','Average Length of Nouns','Length of Nouns_citation')\n",
    "df_plot(vocabulary_length,'level Label','Average Length of Verbs','Length of Verbs_citation')\n",
    "df_plot(vocabulary_length,'level Label','Average Length of Adjectives','Length of Adjectives_citation')\n",
    "df_plot(vocabulary_length,'level Label','Average Length of Adverbs','Length of Adverbs_citation')\n",
    "# df_plot(vocabulary_length,'level Label','Average Length of Substantive Words','Length of Substantive Words_citation')\n",
    "df_plot(voc_df,'level Label','Average NO. of Distinct Vocabulary','Average NO. of Distinct Vocabulary_citation')\n",
    "df_plot(complex_df,'level Label','NO. of which','NO. of which_citation')\n",
    "df_plot(complex_df,'level Label','NO. of that','NO. of that_citation')\n",
    "\n"
   ]
  },
  {
   "cell_type": "code",
   "execution_count": 7,
   "metadata": {
    "collapsed": false
   },
   "outputs": [
    {
     "ename": "IOError",
     "evalue": "[Errno 2] No such file or directory: 'plos_ethnea.xlsx'",
     "output_type": "error",
     "traceback": [
      "\u001b[0;31m---------------------------------------------------------------------------\u001b[0m",
      "\u001b[0;31mIOError\u001b[0m                                   Traceback (most recent call last)",
      "\u001b[0;32m<ipython-input-7-3cfcc6a609c4>\u001b[0m in \u001b[0;36m<module>\u001b[0;34m()\u001b[0m\n\u001b[1;32m      5\u001b[0m \u001b[0mplt\u001b[0m\u001b[1;33m.\u001b[0m\u001b[0mstyle\u001b[0m\u001b[1;33m.\u001b[0m\u001b[0muse\u001b[0m\u001b[1;33m(\u001b[0m\u001b[1;34m'ggplot'\u001b[0m\u001b[1;33m)\u001b[0m\u001b[1;33m\u001b[0m\u001b[0m\n\u001b[1;32m      6\u001b[0m \u001b[1;33m\u001b[0m\u001b[0m\n\u001b[0;32m----> 7\u001b[0;31m \u001b[0mdf\u001b[0m\u001b[1;33m=\u001b[0m\u001b[0mpd\u001b[0m\u001b[1;33m.\u001b[0m\u001b[0mread_excel\u001b[0m\u001b[1;33m(\u001b[0m\u001b[1;34m'plos_ethnea.xlsx'\u001b[0m\u001b[1;33m,\u001b[0m \u001b[0msheetname\u001b[0m\u001b[1;33m=\u001b[0m\u001b[1;34m'final'\u001b[0m\u001b[1;33m)\u001b[0m\u001b[1;33m\u001b[0m\u001b[0m\n\u001b[0m\u001b[1;32m      8\u001b[0m \u001b[0mgrammer_df\u001b[0m\u001b[1;33m=\u001b[0m\u001b[0mdf\u001b[0m\u001b[1;33m[\u001b[0m\u001b[1;33m[\u001b[0m\u001b[1;34m'sentence_len'\u001b[0m\u001b[1;33m,\u001b[0m\u001b[1;34m'level'\u001b[0m\u001b[1;33m]\u001b[0m\u001b[1;33m]\u001b[0m\u001b[1;33m\u001b[0m\u001b[0m\n\u001b[1;32m      9\u001b[0m \u001b[0mgrammer_df\u001b[0m\u001b[1;33m.\u001b[0m\u001b[0msentence_len\u001b[0m \u001b[1;33m=\u001b[0m \u001b[0mgrammer_df\u001b[0m\u001b[1;33m.\u001b[0m\u001b[0msentence_len\u001b[0m\u001b[1;33m[\u001b[0m\u001b[1;33m~\u001b[0m\u001b[1;33m(\u001b[0m\u001b[1;33m(\u001b[0m\u001b[0mgrammer_df\u001b[0m\u001b[1;33m.\u001b[0m\u001b[0msentence_len\u001b[0m\u001b[1;33m-\u001b[0m\u001b[0mgrammer_df\u001b[0m\u001b[1;33m.\u001b[0m\u001b[0msentence_len\u001b[0m\u001b[1;33m.\u001b[0m\u001b[0mmean\u001b[0m\u001b[1;33m(\u001b[0m\u001b[1;33m)\u001b[0m\u001b[1;33m)\u001b[0m\u001b[1;33m.\u001b[0m\u001b[0mabs\u001b[0m\u001b[1;33m(\u001b[0m\u001b[1;33m)\u001b[0m\u001b[1;33m>\u001b[0m\u001b[1;36m3\u001b[0m\u001b[1;33m*\u001b[0m\u001b[0mgrammer_df\u001b[0m\u001b[1;33m.\u001b[0m\u001b[0msentence_len\u001b[0m\u001b[1;33m.\u001b[0m\u001b[0mstd\u001b[0m\u001b[1;33m(\u001b[0m\u001b[1;33m)\u001b[0m\u001b[1;33m)\u001b[0m\u001b[1;33m]\u001b[0m\u001b[1;33m\u001b[0m\u001b[0m\n",
      "\u001b[0;32md:\\win7\\python27\\lib\\site-packages\\pandas\\io\\excel.pyc\u001b[0m in \u001b[0;36mread_excel\u001b[0;34m(io, sheetname, **kwds)\u001b[0m\n\u001b[1;32m    149\u001b[0m     \u001b[0mengine\u001b[0m \u001b[1;33m=\u001b[0m \u001b[0mkwds\u001b[0m\u001b[1;33m.\u001b[0m\u001b[0mpop\u001b[0m\u001b[1;33m(\u001b[0m\u001b[1;34m'engine'\u001b[0m\u001b[1;33m,\u001b[0m \u001b[0mNone\u001b[0m\u001b[1;33m)\u001b[0m\u001b[1;33m\u001b[0m\u001b[0m\n\u001b[1;32m    150\u001b[0m \u001b[1;33m\u001b[0m\u001b[0m\n\u001b[0;32m--> 151\u001b[0;31m     \u001b[1;32mreturn\u001b[0m \u001b[0mExcelFile\u001b[0m\u001b[1;33m(\u001b[0m\u001b[0mio\u001b[0m\u001b[1;33m,\u001b[0m \u001b[0mengine\u001b[0m\u001b[1;33m=\u001b[0m\u001b[0mengine\u001b[0m\u001b[1;33m)\u001b[0m\u001b[1;33m.\u001b[0m\u001b[0mparse\u001b[0m\u001b[1;33m(\u001b[0m\u001b[0msheetname\u001b[0m\u001b[1;33m=\u001b[0m\u001b[0msheetname\u001b[0m\u001b[1;33m,\u001b[0m \u001b[1;33m**\u001b[0m\u001b[0mkwds\u001b[0m\u001b[1;33m)\u001b[0m\u001b[1;33m\u001b[0m\u001b[0m\n\u001b[0m\u001b[1;32m    152\u001b[0m \u001b[1;33m\u001b[0m\u001b[0m\n\u001b[1;32m    153\u001b[0m \u001b[1;33m\u001b[0m\u001b[0m\n",
      "\u001b[0;32md:\\win7\\python27\\lib\\site-packages\\pandas\\io\\excel.pyc\u001b[0m in \u001b[0;36m__init__\u001b[0;34m(self, io, **kwds)\u001b[0m\n\u001b[1;32m    186\u001b[0m                 \u001b[0mself\u001b[0m\u001b[1;33m.\u001b[0m\u001b[0mbook\u001b[0m \u001b[1;33m=\u001b[0m \u001b[0mxlrd\u001b[0m\u001b[1;33m.\u001b[0m\u001b[0mopen_workbook\u001b[0m\u001b[1;33m(\u001b[0m\u001b[0mfile_contents\u001b[0m\u001b[1;33m=\u001b[0m\u001b[0mdata\u001b[0m\u001b[1;33m)\u001b[0m\u001b[1;33m\u001b[0m\u001b[0m\n\u001b[1;32m    187\u001b[0m             \u001b[1;32melse\u001b[0m\u001b[1;33m:\u001b[0m\u001b[1;33m\u001b[0m\u001b[0m\n\u001b[0;32m--> 188\u001b[0;31m                 \u001b[0mself\u001b[0m\u001b[1;33m.\u001b[0m\u001b[0mbook\u001b[0m \u001b[1;33m=\u001b[0m \u001b[0mxlrd\u001b[0m\u001b[1;33m.\u001b[0m\u001b[0mopen_workbook\u001b[0m\u001b[1;33m(\u001b[0m\u001b[0mio\u001b[0m\u001b[1;33m)\u001b[0m\u001b[1;33m\u001b[0m\u001b[0m\n\u001b[0m\u001b[1;32m    189\u001b[0m         \u001b[1;32melif\u001b[0m \u001b[0mengine\u001b[0m \u001b[1;33m==\u001b[0m \u001b[1;34m'xlrd'\u001b[0m \u001b[1;32mand\u001b[0m \u001b[0misinstance\u001b[0m\u001b[1;33m(\u001b[0m\u001b[0mio\u001b[0m\u001b[1;33m,\u001b[0m \u001b[0mxlrd\u001b[0m\u001b[1;33m.\u001b[0m\u001b[0mBook\u001b[0m\u001b[1;33m)\u001b[0m\u001b[1;33m:\u001b[0m\u001b[1;33m\u001b[0m\u001b[0m\n\u001b[1;32m    190\u001b[0m             \u001b[0mself\u001b[0m\u001b[1;33m.\u001b[0m\u001b[0mbook\u001b[0m \u001b[1;33m=\u001b[0m \u001b[0mio\u001b[0m\u001b[1;33m\u001b[0m\u001b[0m\n",
      "\u001b[0;32md:\\win7\\python27\\lib\\site-packages\\xlrd\\__init__.pyc\u001b[0m in \u001b[0;36mopen_workbook\u001b[0;34m(filename, logfile, verbosity, use_mmap, file_contents, encoding_override, formatting_info, on_demand, ragged_rows)\u001b[0m\n\u001b[1;32m    392\u001b[0m         \u001b[0mpeek\u001b[0m \u001b[1;33m=\u001b[0m \u001b[0mfile_contents\u001b[0m\u001b[1;33m[\u001b[0m\u001b[1;33m:\u001b[0m\u001b[0mpeeksz\u001b[0m\u001b[1;33m]\u001b[0m\u001b[1;33m\u001b[0m\u001b[0m\n\u001b[1;32m    393\u001b[0m     \u001b[1;32melse\u001b[0m\u001b[1;33m:\u001b[0m\u001b[1;33m\u001b[0m\u001b[0m\n\u001b[0;32m--> 394\u001b[0;31m         \u001b[0mf\u001b[0m \u001b[1;33m=\u001b[0m \u001b[0mopen\u001b[0m\u001b[1;33m(\u001b[0m\u001b[0mfilename\u001b[0m\u001b[1;33m,\u001b[0m \u001b[1;34m\"rb\"\u001b[0m\u001b[1;33m)\u001b[0m\u001b[1;33m\u001b[0m\u001b[0m\n\u001b[0m\u001b[1;32m    395\u001b[0m         \u001b[0mpeek\u001b[0m \u001b[1;33m=\u001b[0m \u001b[0mf\u001b[0m\u001b[1;33m.\u001b[0m\u001b[0mread\u001b[0m\u001b[1;33m(\u001b[0m\u001b[0mpeeksz\u001b[0m\u001b[1;33m)\u001b[0m\u001b[1;33m\u001b[0m\u001b[0m\n\u001b[1;32m    396\u001b[0m         \u001b[0mf\u001b[0m\u001b[1;33m.\u001b[0m\u001b[0mclose\u001b[0m\u001b[1;33m(\u001b[0m\u001b[1;33m)\u001b[0m\u001b[1;33m\u001b[0m\u001b[0m\n",
      "\u001b[0;31mIOError\u001b[0m: [Errno 2] No such file or directory: 'plos_ethnea.xlsx'"
     ]
    }
   ],
   "source": [
    "import numpy as np\n",
    "import pandas as pd\n",
    "import matplotlib.pyplot as plt\n",
    "import seaborn as sns\n",
    "plt.style.use('ggplot')\n",
    "\n",
    "df=pd.read_excel('plos_ethnea.xlsx', sheetname='final')\n",
    "grammer_df=df[['sentence_len','level']]\n",
    "grammer_df.sentence_len = grammer_df.sentence_len[~((grammer_df.sentence_len-grammer_df.sentence_len.mean()).abs()>3*grammer_df.sentence_len.std())]\n",
    "grammer_pivot=grammer_df.pivot(columns='level', values='sentence_len')\n",
    "\n",
    "plt.figure()\n",
    "plt.violinplot([grammer_pivot[1.0].dropna(),grammer_pivot[1.5].dropna(),\n",
    "                grammer_pivot[2.0].dropna(),grammer_pivot[2.5].dropna(),\n",
    "               grammer_pivot[3.0].dropna()],showmeans=True, showextrema=True, showmedians=True,\n",
    "               bw_method='silverman')\n",
    "plt.show()\n"
   ]
  },
  {
   "cell_type": "code",
   "execution_count": null,
   "metadata": {
    "collapsed": true
   },
   "outputs": [],
   "source": []
  }
 ],
 "metadata": {
  "anaconda-cloud": {},
  "kernelspec": {
   "display_name": "Python 2",
   "language": "python",
   "name": "python2"
  },
  "language_info": {
   "codemirror_mode": {
    "name": "ipython",
    "version": 2
   },
   "file_extension": ".py",
   "mimetype": "text/x-python",
   "name": "python",
   "nbconvert_exporter": "python",
   "pygments_lexer": "ipython2",
   "version": "2.7.11"
  }
 },
 "nbformat": 4,
 "nbformat_minor": 0
}
