{
 "cells": [
  {
   "cell_type": "code",
   "execution_count": 1,
   "metadata": {},
   "outputs": [
    {
     "name": "stdout",
     "output_type": "stream",
     "text": [
      "155579\n"
     ]
    }
   ],
   "source": [
    "doi_set = set(open(r'F:\\scientific resource\\Projects\\writing style\\paper one-writing style\\data\\doi.txt','r').read().split('\\n'))\n",
    "print len(doi_set)"
   ]
  },
  {
   "cell_type": "code",
   "execution_count": 2,
   "metadata": {},
   "outputs": [
    {
     "name": "stdout",
     "output_type": "stream",
     "text": [
      "176301\n"
     ]
    }
   ],
   "source": [
    "from collections import defaultdict\n",
    "pmid_dict= defaultdict()\n",
    "for line in open(r'F:\\scientific resource\\Projects\\writing style\\paper one-writing style\\data\\doi_pmid.txt','r'):\n",
    "    v,k = line.strip().split()\n",
    "    pmid_dict[k]=v\n",
    "print len(pmid_dict)"
   ]
  },
  {
   "cell_type": "code",
   "execution_count": 6,
   "metadata": {},
   "outputs": [
    {
     "name": "stdout",
     "output_type": "stream",
     "text": [
      "155579\n"
     ]
    }
   ],
   "source": [
    "pmid_doi=defaultdict()\n",
    "for k,v in pmid_dict.iteritems():\n",
    "#     print k,v \n",
    "    if k in doi_set:\n",
    "        pmid_doi[v]=k\n",
    "print len(pmid_doi)"
   ]
  },
  {
   "cell_type": "code",
   "execution_count": 7,
   "metadata": {},
   "outputs": [
    {
     "name": "stdout",
     "output_type": "stream",
     "text": [
      "155579\n"
     ]
    }
   ],
   "source": [
    "pmids=set(pmid_doi.keys())\n",
    "print len(pmids)"
   ]
  },
  {
   "cell_type": "code",
   "execution_count": 8,
   "metadata": {
    "collapsed": true
   },
   "outputs": [],
   "source": [
    "for line in open(r'F:\\scientific resource\\Projects\\writing style\\paper one-writing style\\data\\plos_ethnea.tsv','r'):\n",
    "    temp_list = line.strip().split('\\t')\n",
    "    pmid = temp_list[0] \n",
    "    if pmid in pmids:\n",
    "        with open('plos_ethnea_final.txt','a') as f:\n",
    "            f.write(pmid_doi.get(pmid) + \"\\t\"+line)"
   ]
  },
  {
   "cell_type": "code",
   "execution_count": 30,
   "metadata": {},
   "outputs": [],
   "source": [
    "def get_article_length(doi_file,file_path):\n",
    "    file_set=set()\n",
    "    for line in open(doi_file,'r'):\n",
    "        final_path=file_path+'\\\\asset_id='+line.strip().replace('/','%2F')+'.XML'\n",
    "        f_string=open(final_path).read()\n",
    "        string= clean_string(f_string)\n",
    "    return file_set"
   ]
  },
  {
   "cell_type": "code",
   "execution_count": 101,
   "metadata": {
    "collapsed": true
   },
   "outputs": [],
   "source": [
    "def clean_string(string):\n",
    "    import re\n",
    "    from nltk.tokenize import sent_tokenize\n",
    "    string = re.sub('<.*?>', '', string)\n",
    "    string = re.sub('\\n+', '\\n', string)\n",
    "    string = string.replace('\\n',' ')\n",
    "    string = re.sub('\\s+',' ',string).strip()\n",
    "    sentence_list = sent_tokenize(string)\n",
    "    sentence_list = process_sen_list(sentence_list)\n",
    "    print '\\n'.join(sentence_list)"
   ]
  },
  {
   "cell_type": "code",
   "execution_count": 121,
   "metadata": {},
   "outputs": [],
   "source": [
    "def process_sen_list(string_list):\n",
    "    import re\n",
    "    for i, item in enumerate(string_list):\n",
    "        if item[0].islower():\n",
    "            string_list[i-1]= string_list[i-1][:-1]+ ' '+item\n",
    "            string_list.pop(i)\n",
    "    return string_list\n",
    "            "
   ]
  },
  {
   "cell_type": "code",
   "execution_count": 122,
   "metadata": {},
   "outputs": [],
   "source": [
    "file_path = r'F:\\scientific resource\\Projects\\writing style\\paper one-writing style\\data\\doi.txt'\n",
    "file_directory = r'I:\\Chao Lu\\Data\\plos_xml'\n",
    "file_string = '''<license>\n",
    "<license-p>\n",
    "This is an open-access article distributed under et al. the terms of the Creative Commons Attribution License, which permits unrestricted use, distribution, and reproduction in any medium, provided the original author and source are credited.\n",
    "</license-p>\n",
    "</license>\n",
    "</permissions>\n",
    "<abstract>\n",
    "<sec>\n",
    "<title>Background</title>\n",
    "<p>\n",
    "Minor Histocompatibility (H) antigen mismatches significantly influence the outcome of HLA-matched allogeneic stem cell transplantation. The molecular identification of human H antigens is increasing rapidly. In parallel, clinical application of minor H antigen typing has gained interest. So far, relevant and simple tools to analyze the minor H antigens in a quick and reliable way are lacking.\n",
    "</p>\n",
    "</sec>\n",
    "<sec>\n",
    "<title>Methodology and Findings</title>\n",
    "<p>\n",
    "We developed a uniform PCR with U.S. sequence-specific primers (PCR-SSP) for 10 different autosomal minor H antigens and H-Y. This genomic minor H antigen typing methodology allows easy incorporation in the routine HLA typing procedures. DNA from previously typed EBV-LCL was used to validate the methodology. To facilitate easy interpretation for clinical purposes, a minor H database named dbMinor (\n",
    "<ext-link ext-link-type=\"uri\" xlink:href=\"http://www.lumc.nl/dbminor\" xlink:type=\"simple\">http://www.lumc.nl/dbminor</ext-link>\n",
    ") was developed. Input of the minor H antigen typing results subsequently provides all relevant information for a given patient/donor pair and additional information on the putative graft-versus-host, graft-versus-tumor and host-versus-graft reactivities.\n",
    "</p>\n",
    "</sec>\n",
    "<sec>\n",
    "<title>Significance</title>\n",
    "<p>\n",
    "A simple, uniform and rapid methodology was developed enabling determination of minor H antigen genotypes of all currently identified minor H antigens. A dbMinor database was developed to interpret the genomic typing for its potential clinical relevance. The combination of the minor H antigen genomic typing methodology with the online dbMinor database and applications facilitates the clinical application of minor H antigens anti-tumor targets after stem cell transplantation.\n",
    "</p>\n",
    "</sec>\n",
    "</abstract>\n",
    "<funding-group>'''"
   ]
  },
  {
   "cell_type": "code",
   "execution_count": 123,
   "metadata": {},
   "outputs": [
    {
     "name": "stdout",
     "output_type": "stream",
     "text": [
      "This is an open-access article distributed under et al the terms of the Creative Commons Attribution License, which permits unrestricted use, distribution, and reproduction in any medium, provided the original author and source are credited.\n",
      "Background Minor Histocompatibility (H) antigen mismatches significantly influence the outcome of HLA-matched allogeneic stem cell transplantation.\n",
      "The molecular identification of human H antigens is increasing rapidly.\n",
      "In parallel, clinical application of minor H antigen typing has gained interest.\n",
      "So far, relevant and simple tools to analyze the minor H antigens in a quick and reliable way are lacking.\n",
      "Methodology and Findings We developed a uniform PCR with U.S. sequence-specific primers (PCR-SSP) for 10 different autosomal minor H antigens and H-Y.\n",
      "This genomic minor H antigen typing methodology allows easy incorporation in the routine HLA typing procedures.\n",
      "DNA from previously typed EBV-LCL was used to validate the methodology.\n",
      "To facilitate easy interpretation for clinical purposes, a minor H database named dbMinor ( http://www.lumc.nl/dbminor ) was developed.\n",
      "Input of the minor H antigen typing results subsequently provides all relevant information for a given patient/donor pair and additional information on the putative graft-versus-host, graft-versus-tumor and host-versus-graft reactivities.\n",
      "Significance A simple, uniform and rapid methodology was developed enabling determination of minor H antigen genotypes of all currently identified minor H antigens.\n",
      "A dbMinor database was developed to interpret the genomic typing for its potential clinical relevance.\n",
      "The combination of the minor H antigen genomic typing methodology with the online dbMinor database and applications facilitates the clinical application of minor H antigens anti-tumor targets after stem cell transplantation.\n"
     ]
    }
   ],
   "source": [
    "clean_string(file_string)"
   ]
  },
  {
   "cell_type": "code",
   "execution_count": null,
   "metadata": {
    "collapsed": true
   },
   "outputs": [],
   "source": []
  }
 ],
 "metadata": {
  "kernelspec": {
   "display_name": "Python 2",
   "language": "python",
   "name": "python2"
  },
  "language_info": {
   "codemirror_mode": {
    "name": "ipython",
    "version": 2
   },
   "file_extension": ".py",
   "mimetype": "text/x-python",
   "name": "python",
   "nbconvert_exporter": "python",
   "pygments_lexer": "ipython2",
   "version": "2.7.13"
  }
 },
 "nbformat": 4,
 "nbformat_minor": 2
}
